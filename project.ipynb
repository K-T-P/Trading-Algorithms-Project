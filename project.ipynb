{
 "cells": [
  {
   "cell_type": "markdown",
   "metadata": {},
   "source": [
    "# Section 1"
   ]
  },
  {
   "cell_type": "code",
   "execution_count": 2,
   "metadata": {},
   "outputs": [],
   "source": [
    "import numpy as np\n",
    "import pandas as pd\n",
    "import yfinance as yf\n",
    "\n",
    "from datetime import datetime"
   ]
  },
  {
   "cell_type": "code",
   "execution_count": 3,
   "metadata": {},
   "outputs": [],
   "source": [
    "coins = (\"BTC-USD\", \"ETH-USD\", \"BNB-USD\", \"XRP-USD\")\n",
    "\n",
    "train_start = datetime(2023, 8, 1)\n",
    "train_end = datetime(2024, 8, 1)\n",
    "test_start = datetime(2024, 8, 1)\n",
    "test_end = datetime(2024, 12, 1)"
   ]
  },
  {
   "cell_type": "code",
   "execution_count": 17,
   "metadata": {},
   "outputs": [],
   "source": [
    "def get_coins_data(coins, start, end):\n",
    "    data_dict = {}\n",
    "    for coin in coins:\n",
    "        data_dict[coin] = (\n",
    "            yf.Ticker(coin).history(start=start, end=end, interval=\"1d\").Close\n",
    "        )\n",
    "\n",
    "    data = pd.DataFrame(data_dict)\n",
    "    data.ffill(axis=1)\n",
    "    return data"
   ]
  },
  {
   "cell_type": "code",
   "execution_count": 18,
   "metadata": {},
   "outputs": [],
   "source": [
    "train_data = get_coins_data(coins, train_start, train_end)\n",
    "test_data = get_coins_data(coins, test_start, test_end)"
   ]
  },
  {
   "cell_type": "code",
   "execution_count": null,
   "metadata": {},
   "outputs": [],
   "source": [
    "#Check data Quality\n",
    "train_data = train_data.ffil(axis=1)"
   ]
  },
  {
   "cell_type": "markdown",
   "metadata": {},
   "source": [
    "# Section 2"
   ]
  }
 ],
 "metadata": {
  "kernelspec": {
   "display_name": "Python 3",
   "language": "python",
   "name": "python3"
  },
  "language_info": {
   "codemirror_mode": {
    "name": "ipython",
    "version": 3
   },
   "file_extension": ".py",
   "mimetype": "text/x-python",
   "name": "python",
   "nbconvert_exporter": "python",
   "pygments_lexer": "ipython3",
   "version": "3.12.3"
  }
 },
 "nbformat": 4,
 "nbformat_minor": 2
}
